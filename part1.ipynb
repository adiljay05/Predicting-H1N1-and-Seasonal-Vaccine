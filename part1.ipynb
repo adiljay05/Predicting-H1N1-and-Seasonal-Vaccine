{
 "cells": [
  {
   "cell_type": "code",
   "execution_count": 47,
   "id": "84e5f16e",
   "metadata": {},
   "outputs": [
    {
     "name": "stdout",
     "output_type": "stream",
     "text": [
      "<class 'pandas.core.frame.DataFrame'>\n",
      "Int64Index: 26707 entries, 0 to 26706\n",
      "Data columns (total 37 columns):\n",
      " #   Column                       Non-Null Count  Dtype  \n",
      "---  ------                       --------------  -----  \n",
      " 0   h1n1_concern                 26615 non-null  float64\n",
      " 1   h1n1_knowledge               26591 non-null  float64\n",
      " 2   behavioral_antiviral_meds    26636 non-null  float64\n",
      " 3   behavioral_avoidance         26499 non-null  float64\n",
      " 4   behavioral_face_mask         26688 non-null  float64\n",
      " 5   behavioral_wash_hands        26665 non-null  float64\n",
      " 6   behavioral_large_gatherings  26620 non-null  float64\n",
      " 7   behavioral_outside_home      26625 non-null  float64\n",
      " 8   behavioral_touch_face        26579 non-null  float64\n",
      " 9   doctor_recc_h1n1             24547 non-null  float64\n",
      " 10  doctor_recc_seasonal         24547 non-null  float64\n",
      " 11  chronic_med_condition        25736 non-null  float64\n",
      " 12  child_under_6_months         25887 non-null  float64\n",
      " 13  health_worker                25903 non-null  float64\n",
      " 14  health_insurance             14433 non-null  float64\n",
      " 15  opinion_h1n1_vacc_effective  26316 non-null  float64\n",
      " 16  opinion_h1n1_risk            26319 non-null  float64\n",
      " 17  opinion_h1n1_sick_from_vacc  26312 non-null  float64\n",
      " 18  opinion_seas_vacc_effective  26245 non-null  float64\n",
      " 19  opinion_seas_risk            26193 non-null  float64\n",
      " 20  opinion_seas_sick_from_vacc  26170 non-null  float64\n",
      " 21  age_group                    26707 non-null  object \n",
      " 22  education                    25300 non-null  object \n",
      " 23  race                         26707 non-null  object \n",
      " 24  sex                          26707 non-null  object \n",
      " 25  income_poverty               22284 non-null  object \n",
      " 26  marital_status               25299 non-null  object \n",
      " 27  rent_or_own                  24665 non-null  object \n",
      " 28  employment_status            25244 non-null  object \n",
      " 29  hhs_geo_region               26707 non-null  object \n",
      " 30  census_msa                   26707 non-null  object \n",
      " 31  household_adults             26458 non-null  float64\n",
      " 32  household_children           26458 non-null  float64\n",
      " 33  employment_industry          13377 non-null  object \n",
      " 34  employment_occupation        13237 non-null  object \n",
      " 35  h1n1_vaccine                 26707 non-null  int64  \n",
      " 36  seasonal_vaccine             26707 non-null  int64  \n",
      "dtypes: float64(23), int64(2), object(12)\n",
      "memory usage: 8.8+ MB\n"
     ]
    }
   ],
   "source": [
    "import pandas as pd\n",
    "import numpy as np\n",
    "from pandas import Series, DataFrame\n",
    "\n",
    "import matplotlib.pyplot as plt\n",
    "import seaborn as sb\n",
    "from pylab import rcParams\n",
    "\n",
    "import scipy\n",
    "from scipy import stats\n",
    "from scipy.stats.stats import pearsonr\n",
    "\n",
    "from sklearn.tree import DecisionTreeRegressor\n",
    "from sklearn.linear_model import LogisticRegression\n",
    "from sklearn.model_selection import train_test_split\n",
    "from sklearn import preprocessing\n",
    "\n",
    "#Checking accuracy in decision tree\n",
    "from sklearn.metrics import mean_absolute_error\n",
    "from sklearn.metrics import accuracy_score\n",
    "    \n",
    "#Reading CSV files\n",
    "train = pd.read_csv('1 - Initial data/training_set_features.csv', index_col = 'respondent_id')\n",
    "labels = pd.read_csv('1 - Initial data/training_set_labels.csv', index_col='respondent_id')\n",
    "\n",
    "#Joining training labels to the training dataset\n",
    "train = train.join(labels)\n",
    "\n",
    "train.info()"
   ]
  },
  {
   "cell_type": "code",
   "execution_count": 48,
   "id": "92f32b27",
   "metadata": {},
   "outputs": [],
   "source": [
    "#Dropping columns with most null values\n",
    "df = train.drop(['employment_industry', 'employment_occupation'], axis=1)\n",
    "df['health_insurance'] = df['health_insurance'].fillna(-1)\n",
    "\n",
    "#Function that drops unecessary columns for H1N1 analysis\n",
    "def drop_H1N1(df):\n",
    "    #Fields not important to evaluare H1N1\n",
    "    df = df.drop(['doctor_recc_seasonal', 'opinion_seas_vacc_effective', 'opinion_seas_risk', 'opinion_seas_sick_from_vacc'], axis=1)\n",
    "\n",
    "    #Dropping because of one hot encolding\n",
    "    df = df.drop(['hhs_geo_region'], axis=1)\n",
    "    \n",
    "    return df\n",
    "\n",
    "#Function that drops unecessary columns for seasonal analysis\n",
    "def drop_seasonal(df):\n",
    "    #Fields not important to evaluare H1N1\n",
    "    df = df.drop(['doctor_recc_h1n1', 'opinion_h1n1_vacc_effective', 'opinion_h1n1_risk', 'opinion_h1n1_sick_from_vacc', 'h1n1_concern', 'h1n1_knowledge', 'health_insurance', 'census_msa'], axis=1)\n",
    "\n",
    "    #Dropping because of one hot encolding\n",
    "    df = df.drop(['hhs_geo_region'], axis=1)\n",
    "    \n",
    "    return df\n",
    "\n",
    "df_H1N1 = drop_H1N1(df)\n",
    "df_seasonal = drop_seasonal(df)"
   ]
  },
  {
   "cell_type": "code",
   "execution_count": 49,
   "id": "ef26ec8a",
   "metadata": {},
   "outputs": [
    {
     "name": "stdout",
     "output_type": "stream",
     "text": [
      "<class 'pandas.core.frame.DataFrame'>\n",
      "Int64Index: 26707 entries, 0 to 26706\n",
      "Data columns (total 30 columns):\n",
      " #   Column                       Non-Null Count  Dtype  \n",
      "---  ------                       --------------  -----  \n",
      " 0   h1n1_concern                 26615 non-null  float64\n",
      " 1   h1n1_knowledge               26591 non-null  float64\n",
      " 2   behavioral_antiviral_meds    26636 non-null  float64\n",
      " 3   behavioral_avoidance         26499 non-null  float64\n",
      " 4   behavioral_face_mask         26688 non-null  float64\n",
      " 5   behavioral_wash_hands        26665 non-null  float64\n",
      " 6   behavioral_large_gatherings  26620 non-null  float64\n",
      " 7   behavioral_outside_home      26625 non-null  float64\n",
      " 8   behavioral_touch_face        26579 non-null  float64\n",
      " 9   doctor_recc_h1n1             24547 non-null  float64\n",
      " 10  chronic_med_condition        25736 non-null  float64\n",
      " 11  child_under_6_months         25887 non-null  float64\n",
      " 12  health_worker                25903 non-null  float64\n",
      " 13  health_insurance             26707 non-null  float64\n",
      " 14  opinion_h1n1_vacc_effective  26316 non-null  float64\n",
      " 15  opinion_h1n1_risk            26319 non-null  float64\n",
      " 16  opinion_h1n1_sick_from_vacc  26312 non-null  float64\n",
      " 17  age_group                    26707 non-null  object \n",
      " 18  education                    25300 non-null  object \n",
      " 19  race                         26707 non-null  object \n",
      " 20  sex                          26707 non-null  object \n",
      " 21  income_poverty               22284 non-null  object \n",
      " 22  marital_status               25299 non-null  object \n",
      " 23  rent_or_own                  24665 non-null  object \n",
      " 24  employment_status            25244 non-null  object \n",
      " 25  census_msa                   26707 non-null  object \n",
      " 26  household_adults             26458 non-null  float64\n",
      " 27  household_children           26458 non-null  float64\n",
      " 28  h1n1_vaccine                 26707 non-null  int64  \n",
      " 29  seasonal_vaccine             26707 non-null  int64  \n",
      "dtypes: float64(19), int64(2), object(9)\n",
      "memory usage: 7.3+ MB\n"
     ]
    }
   ],
   "source": [
    "#Showing total of null values\n",
    "#df.isnull().sum(axis = 0)\n",
    "df_H1N1.info()"
   ]
  },
  {
   "cell_type": "code",
   "execution_count": 50,
   "id": "fef5804d",
   "metadata": {},
   "outputs": [],
   "source": [
    "#Dropping null values\n",
    "#df = df.dropna()\n",
    "#Delete rows with more than 1 NA value\n",
    "#test2 = test[test.isnull().sum(axis=1) < 2]\n",
    "#df.info()\n",
    "\n",
    "#Function to clean dataset\n",
    "def cleaning_dataset(df):\n",
    "    df = df.dropna()\n",
    "    \n",
    "    return df\n",
    "\n",
    "df_H1N1 = cleaning_dataset(df_H1N1)\n",
    "df_seasonal = cleaning_dataset(df_seasonal)"
   ]
  },
  {
   "cell_type": "code",
   "execution_count": 51,
   "id": "1e61f661",
   "metadata": {},
   "outputs": [
    {
     "name": "stdout",
     "output_type": "stream",
     "text": [
      "<class 'pandas.core.frame.DataFrame'>\n",
      "Int64Index: 19656 entries, 0 to 26706\n",
      "Data columns (total 30 columns):\n",
      " #   Column                       Non-Null Count  Dtype  \n",
      "---  ------                       --------------  -----  \n",
      " 0   h1n1_concern                 19656 non-null  float64\n",
      " 1   h1n1_knowledge               19656 non-null  float64\n",
      " 2   behavioral_antiviral_meds    19656 non-null  float64\n",
      " 3   behavioral_avoidance         19656 non-null  float64\n",
      " 4   behavioral_face_mask         19656 non-null  float64\n",
      " 5   behavioral_wash_hands        19656 non-null  float64\n",
      " 6   behavioral_large_gatherings  19656 non-null  float64\n",
      " 7   behavioral_outside_home      19656 non-null  float64\n",
      " 8   behavioral_touch_face        19656 non-null  float64\n",
      " 9   doctor_recc_h1n1             19656 non-null  float64\n",
      " 10  chronic_med_condition        19656 non-null  float64\n",
      " 11  child_under_6_months         19656 non-null  float64\n",
      " 12  health_worker                19656 non-null  float64\n",
      " 13  health_insurance             19656 non-null  float64\n",
      " 14  opinion_h1n1_vacc_effective  19656 non-null  float64\n",
      " 15  opinion_h1n1_risk            19656 non-null  float64\n",
      " 16  opinion_h1n1_sick_from_vacc  19656 non-null  float64\n",
      " 17  age_group                    19656 non-null  object \n",
      " 18  education                    19656 non-null  object \n",
      " 19  race                         19656 non-null  object \n",
      " 20  sex                          19656 non-null  object \n",
      " 21  income_poverty               19656 non-null  object \n",
      " 22  marital_status               19656 non-null  object \n",
      " 23  rent_or_own                  19656 non-null  object \n",
      " 24  employment_status            19656 non-null  object \n",
      " 25  census_msa                   19656 non-null  object \n",
      " 26  household_adults             19656 non-null  float64\n",
      " 27  household_children           19656 non-null  float64\n",
      " 28  h1n1_vaccine                 19656 non-null  int64  \n",
      " 29  seasonal_vaccine             19656 non-null  int64  \n",
      "dtypes: float64(19), int64(2), object(9)\n",
      "memory usage: 4.6+ MB\n"
     ]
    }
   ],
   "source": [
    "df_H1N1.info()"
   ]
  },
  {
   "cell_type": "code",
   "execution_count": 52,
   "id": "afc08877",
   "metadata": {},
   "outputs": [],
   "source": [
    "#Function to split dataset in training and test. Generates CSV file as result\n",
    "def final_dataset(df, y, name):\n",
    "    x = df\n",
    "    train_x, val_x, train_y, val_y = train_test_split(x, y, random_state=1)\n",
    "    \n",
    "    if name == 'h1n1':\n",
    "        drop_name = 'seasonal'\n",
    "    else:\n",
    "        drop_name = 'h1n1'\n",
    "        \n",
    "    #Creating preprocessed csv\n",
    "    df_train_h1n1 = train_x.drop(drop_name + '_vaccine', axis=1)\n",
    "    df_train_h1n1.to_csv('2 - PreProcessed data/' + name + '_training.csv', index=False)\n",
    "\n",
    "    #Creating preprocessed test csv\n",
    "    df_test_h1n1 = val_x.drop(drop_name + '_vaccine', axis=1)\n",
    "    df_test_h1n1.to_csv('2 - PreProcessed data/'+ name + '_test.csv', index=False)"
   ]
  },
  {
   "cell_type": "code",
   "execution_count": 53,
   "id": "928de0c8",
   "metadata": {},
   "outputs": [],
   "source": [
    "final_dataset(df_H1N1, df_H1N1.h1n1_vaccine, 'h1n1')\n",
    "final_dataset(df_seasonal, df_seasonal.seasonal_vaccine, 'seasonal')"
   ]
  },
  {
   "cell_type": "code",
   "execution_count": 54,
   "id": "7e242a4c",
   "metadata": {},
   "outputs": [
    {
     "name": "stdout",
     "output_type": "stream",
     "text": [
      "Categorical columns that will be one-hot encoded: ['age_group', 'education', 'race', 'sex', 'income_poverty', 'marital_status', 'rent_or_own', 'employment_status', 'census_msa']\n",
      "\n",
      "Categorical columns that will be dropped from the dataset: []\n",
      "Categorical columns that will be one-hot encoded: ['age_group', 'education', 'race', 'sex', 'income_poverty', 'marital_status', 'rent_or_own', 'employment_status']\n",
      "\n",
      "Categorical columns that will be dropped from the dataset: []\n"
     ]
    }
   ],
   "source": [
    "#Transforming categorical data in numeric data\n",
    "def transform_categorical(df):\n",
    "    from sklearn.preprocessing import OneHotEncoder\n",
    "\n",
    "    #Cols\n",
    "    object_cols = [col for col in df.columns if df[col].dtype == \"object\"]\n",
    "\n",
    "    # Columns that will be one-hot encoded\n",
    "    low_cardinality_cols = [col for col in object_cols if df[col].nunique() < 10]\n",
    "\n",
    "    # Columns that will be dropped from the dataset\n",
    "    high_cardinality_cols = list(set(object_cols)-set(low_cardinality_cols))\n",
    "\n",
    "    print('Categorical columns that will be one-hot encoded:', low_cardinality_cols)\n",
    "    print('\\nCategorical columns that will be dropped from the dataset:', high_cardinality_cols)\n",
    "\n",
    "\n",
    "    # Apply one-hot encoder to each column with categorical data\n",
    "    OH_encoder = OneHotEncoder(handle_unknown='ignore', sparse=False)\n",
    "    OH_cols_train = pd.DataFrame(OH_encoder.fit_transform(df[low_cardinality_cols]))\n",
    "\n",
    "    # One-hot encoding removed index; put it back\n",
    "    OH_cols_train.index = df.index\n",
    "\n",
    "\n",
    "    # Remove categorical columns (will replace with one-hot encoding)\n",
    "    num_X_train = df.drop(object_cols, axis=1)\n",
    "\n",
    "    # Add one-hot encoded columns to numerical features\n",
    "    OH_X_train = pd.concat([num_X_train, OH_cols_train], axis=1)\n",
    "\n",
    "    df = OH_X_train\n",
    "    \n",
    "    return df\n",
    "\n",
    "df_H1N1 = transform_categorical(df_H1N1)\n",
    "df_seasonal = transform_categorical(df_seasonal)"
   ]
  },
  {
   "cell_type": "code",
   "execution_count": 55,
   "id": "3d34ad4f",
   "metadata": {},
   "outputs": [],
   "source": [
    "#Seeting plot environmnet\n",
    "%matplotlib inline\n",
    "rcParams['figure.figsize'] = 8,4\n",
    "plt.style.use('seaborn-whitegrid')"
   ]
  },
  {
   "cell_type": "code",
   "execution_count": 56,
   "id": "f70d3f25",
   "metadata": {
    "scrolled": false
   },
   "outputs": [
    {
     "data": {
      "text/plain": [
       "<seaborn.axisgrid.PairGrid at 0x7f88fafddd30>"
      ]
     },
     "execution_count": 56,
     "metadata": {},
     "output_type": "execute_result"
    },
    {
     "data": {
      "image/png": "[encoded data removed]",
      "text/plain": [
       "<Figure size 720x720 with 20 Axes>"
      ]
     },
     "metadata": {},
     "output_type": "display_data"
    }
   ],
   "source": [
    "#Plotting variables\n",
    "df_plot = df_H1N1[['h1n1_concern', 'health_insurance', 'doctor_recc_h1n1','h1n1_vaccine']]\n",
    "sb.pairplot(df_plot)\n",
    "\n"
   ]
  },
  {
   "cell_type": "code",
   "execution_count": 57,
   "id": "9360f974",
   "metadata": {},
   "outputs": [
    {
     "data": {
      "text/plain": [
       " 1.0    10415\n",
       "-1.0     7854\n",
       " 0.0     1387\n",
       "Name: health_insurance, dtype: int64"
      ]
     },
     "execution_count": 57,
     "metadata": {},
     "output_type": "execute_result"
    },
    {
     "data": {
      "image/png": "[encoded data removed]",
      "text/plain": [
       "<Figure size 430x360 with 1 Axes>"
      ]
     },
     "metadata": {},
     "output_type": "display_data"
    }
   ],
   "source": [
    "sb.catplot(x=\"health_insurance\", kind=\"count\", hue=\"h1n1_vaccine\", data=df_plot)\n",
    "\n",
    "payment = df_plot.health_insurance\n",
    "payment.value_counts()"
   ]
  },
  {
   "cell_type": "code",
   "execution_count": 58,
   "id": "0bfa04c5",
   "metadata": {},
   "outputs": [
    {
     "name": "stdout",
     "output_type": "stream",
     "text": [
      "MAE: 0.15466015466015465\n",
      "Accuracy: 0.8453398453398453\n"
     ]
    },
    {
     "data": {
      "image/png": "[encoded data removed]",
      "text/plain": [
       "<Figure size 576x288 with 1 Axes>"
      ]
     },
     "metadata": {},
     "output_type": "display_data"
    }
   ],
   "source": [
    "from sklearn import tree\n",
    "from sklearn.model_selection import GridSearchCV\n",
    "\n",
    "def decisionTree(df):\n",
    "    x = df.drop(['seasonal_vaccine','h1n1_vaccine'], axis=1)\n",
    "    y = df.h1n1_vaccine\n",
    "\n",
    "    train_x, val_x, train_y, val_y = train_test_split(x, y, random_state=1)\n",
    "    \n",
    "    \"\"\"\n",
    "    parameters = {'max_depth':range(3,20)}\n",
    "    clf = GridSearchCV(tree.DecisionTreeClassifier(), parameters, n_jobs=4)\n",
    "    clf = clf.fit(X=x, y=y)\n",
    "    tree_model = clf.best_estimator_\n",
    "    #print (clf.best_score_, clf.best_params_) \n",
    "    \n",
    "    val_predictions = clf.predict(val_x)\n",
    "    val_mae = mean_absolute_error(val_y, val_predictions)\n",
    "    print(val_mae)\n",
    "    print(accuracy_score(list(val_y), list(map(int,list(val_predictions)))))\n",
    "    tree.plot_tree(clf)\n",
    "    \"\"\"\n",
    "    \n",
    "    clf = tree.DecisionTreeClassifier(random_state=0, max_depth = 5)\n",
    "    clf = clf.fit(x, y)\n",
    "    \n",
    "    val_predictions = clf.predict(val_x)\n",
    "    val_mae = mean_absolute_error(val_y, val_predictions)\n",
    "    print(\"MAE:\", val_mae)\n",
    "    print(\"Accuracy:\", accuracy_score(list(val_y), list(map(int,list(val_predictions)))))\n",
    "\n",
    "    \"\"\"\n",
    "    train_y[\"prediction\"] = val_predictions\n",
    "    train_y[\"real\"] = val_y\n",
    "    \"\"\"\n",
    "    tree.plot_tree(clf)\n",
    "    \n",
    "decisionTree(df_H1N1)"
   ]
  },
  {
   "cell_type": "code",
   "execution_count": null,
   "id": "6fbf0180",
   "metadata": {},
   "outputs": [],
   "source": []
  }
 ],
 "metadata": {
  "kernelspec": {
   "display_name": "Python 3",
   "language": "python",
   "name": "python3"
  },
  "language_info": {
   "codemirror_mode": {
    "name": "ipython",
    "version": 3
   },
   "file_extension": ".py",
   "mimetype": "text/x-python",
   "name": "python",
   "nbconvert_exporter": "python",
   "pygments_lexer": "ipython3",
   "version": "3.8.8"
  }
 },
 "nbformat": 4,
 "nbformat_minor": 5
}
